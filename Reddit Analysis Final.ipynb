{
 "cells": [
  {
   "cell_type": "markdown",
   "id": "d8d650de",
   "metadata": {},
   "source": [
    "# Problem Statement¶"
   ]
  },
  {
   "cell_type": "markdown",
   "id": "9fc64beb",
   "metadata": {},
   "source": [
    "The management at Reddit want to improve their ability to perform analysis of text posted to their site. Social media and Tech companies are increasingly being called upon to be responsible for the content on their site. For instance, they may be asked to prevent hate speech that spreads violence, identify threats, and so on. Reddit management decided to hire Dr Monday Oshoikpor(Data scientist and Consultant) to work on this problem and, as a proof-of-concept, to demonstrate the value of machine learning applied to natural language processing.\n",
    "\n",
    "In response to that challenge, this project specifically attempts to answer the question:\n",
    "Given a post from one of two subreddits, correctly classify whether or not a post came from the r/LanguageTechnology thread.\n",
    "\n",
    "* r/LanguageTechnology <=== Target\n",
    "* r/videos"
   ]
  },
  {
   "cell_type": "code",
   "execution_count": 16,
   "id": "d6f2939e",
   "metadata": {},
   "outputs": [],
   "source": [
    "import requests\n",
    "import time\n",
    "import pandas as pd\n",
    "import numpy as np\n",
    "\n",
    "import matplotlib.pyplot as plt\n",
    "from sklearn.feature_extraction.text import CountVectorizer\n",
    "from nltk.sentiment.vader import SentimentIntensityAnalyzer\n",
    "from sklearn.model_selection import train_test_split, cross_val_score, GridSearchCV\n",
    "import re\n"
   ]
  },
  {
   "cell_type": "code",
   "execution_count": 17,
   "id": "ea5d0ddf",
   "metadata": {},
   "outputs": [],
   "source": [
    "url = 'https://api.pushshift.io/reddit/search/submission' ## base url"
   ]
  },
  {
   "cell_type": "code",
   "execution_count": 18,
   "id": "7c484721",
   "metadata": {},
   "outputs": [],
   "source": [
    "## define a function 'process_1_sub' that will extract 20000 posts from chosen subreddit\n",
    "def process_1_sub(sub):\n",
    "    params = {\n",
    "        'subreddit' : sub,\n",
    "        'size' :20000,\n",
    "        \n",
    "    }\n",
    "    res = requests.get(url, params)\n",
    "    data = res.json()\n",
    "    posts = data['data']\n",
    "    return pd.DataFrame(posts)"
   ]
  },
  {
   "cell_type": "code",
   "execution_count": 19,
   "id": "fe037c71",
   "metadata": {},
   "outputs": [
    {
     "data": {
      "text/html": [
       "<div>\n",
       "<style scoped>\n",
       "    .dataframe tbody tr th:only-of-type {\n",
       "        vertical-align: middle;\n",
       "    }\n",
       "\n",
       "    .dataframe tbody tr th {\n",
       "        vertical-align: top;\n",
       "    }\n",
       "\n",
       "    .dataframe thead th {\n",
       "        text-align: right;\n",
       "    }\n",
       "</style>\n",
       "<table border=\"1\" class=\"dataframe\">\n",
       "  <thead>\n",
       "    <tr style=\"text-align: right;\">\n",
       "      <th></th>\n",
       "      <th>subreddit</th>\n",
       "      <th>title</th>\n",
       "    </tr>\n",
       "  </thead>\n",
       "  <tbody>\n",
       "    <tr>\n",
       "      <th>0</th>\n",
       "      <td>LanguageTechnology</td>\n",
       "      <td>BART: Denoising Sequence-to-Sequence Pre-train...</td>\n",
       "    </tr>\n",
       "    <tr>\n",
       "      <th>1</th>\n",
       "      <td>LanguageTechnology</td>\n",
       "      <td>7 Tips to Quick-start Your Work With Text Usin...</td>\n",
       "    </tr>\n",
       "    <tr>\n",
       "      <th>2</th>\n",
       "      <td>LanguageTechnology</td>\n",
       "      <td>Introduction to Natural Language Processing (b...</td>\n",
       "    </tr>\n",
       "    <tr>\n",
       "      <th>3</th>\n",
       "      <td>LanguageTechnology</td>\n",
       "      <td>Objectives of NLP, NLU &amp;amp; NLG</td>\n",
       "    </tr>\n",
       "    <tr>\n",
       "      <th>4</th>\n",
       "      <td>LanguageTechnology</td>\n",
       "      <td>NLP Conferences with a decent industry track?</td>\n",
       "    </tr>\n",
       "    <tr>\n",
       "      <th>...</th>\n",
       "      <td>...</td>\n",
       "      <td>...</td>\n",
       "    </tr>\n",
       "    <tr>\n",
       "      <th>95</th>\n",
       "      <td>videos</td>\n",
       "      <td>The Legend of Vox Machina - NYCC Live Read wit...</td>\n",
       "    </tr>\n",
       "    <tr>\n",
       "      <th>96</th>\n",
       "      <td>videos</td>\n",
       "      <td>Why Fallout: New Vegas is famous for its freedom</td>\n",
       "    </tr>\n",
       "    <tr>\n",
       "      <th>97</th>\n",
       "      <td>videos</td>\n",
       "      <td>Roblox Funny Moments - SQUID GAME IN ROBLOX!?</td>\n",
       "    </tr>\n",
       "    <tr>\n",
       "      <th>98</th>\n",
       "      <td>videos</td>\n",
       "      <td>CAST - An Animated Short Film</td>\n",
       "    </tr>\n",
       "    <tr>\n",
       "      <th>99</th>\n",
       "      <td>videos</td>\n",
       "      <td>List of Hot Wheels Unleashed Shortcuts, Racing...</td>\n",
       "    </tr>\n",
       "  </tbody>\n",
       "</table>\n",
       "<p>200 rows × 2 columns</p>\n",
       "</div>"
      ],
      "text/plain": [
       "             subreddit                                              title\n",
       "0   LanguageTechnology  BART: Denoising Sequence-to-Sequence Pre-train...\n",
       "1   LanguageTechnology  7 Tips to Quick-start Your Work With Text Usin...\n",
       "2   LanguageTechnology  Introduction to Natural Language Processing (b...\n",
       "3   LanguageTechnology                   Objectives of NLP, NLU &amp; NLG\n",
       "4   LanguageTechnology      NLP Conferences with a decent industry track?\n",
       "..                 ...                                                ...\n",
       "95              videos  The Legend of Vox Machina - NYCC Live Read wit...\n",
       "96              videos   Why Fallout: New Vegas is famous for its freedom\n",
       "97              videos      Roblox Funny Moments - SQUID GAME IN ROBLOX!?\n",
       "98              videos                      CAST - An Animated Short Film\n",
       "99              videos  List of Hot Wheels Unleashed Shortcuts, Racing...\n",
       "\n",
       "[200 rows x 2 columns]"
      ]
     },
     "execution_count": 19,
     "metadata": {},
     "output_type": "execute_result"
    }
   ],
   "source": [
    "## choose some cities , LangaugeTechnology and videos to extract information from\n",
    "df_lt = process_1_sub('LanguageTechnology')\n",
    "df_vd = process_1_sub('videos')\n",
    "df = pd.concat([df_lt, df_vd])\n",
    "df = df[['subreddit', 'title']]\n",
    "df"
   ]
  },
  {
   "cell_type": "code",
   "execution_count": 20,
   "id": "0e01e58d",
   "metadata": {},
   "outputs": [
    {
     "data": {
      "text/plain": [
       "(200, 2)"
      ]
     },
     "execution_count": 20,
     "metadata": {},
     "output_type": "execute_result"
    }
   ],
   "source": [
    "df.shape"
   ]
  },
  {
   "cell_type": "code",
   "execution_count": 21,
   "id": "af10fbbb",
   "metadata": {},
   "outputs": [
    {
     "data": {
      "text/plain": [
       "<bound method DataFrame.info of              subreddit                                              title\n",
       "0   LanguageTechnology  BART: Denoising Sequence-to-Sequence Pre-train...\n",
       "1   LanguageTechnology  7 Tips to Quick-start Your Work With Text Usin...\n",
       "2   LanguageTechnology  Introduction to Natural Language Processing (b...\n",
       "3   LanguageTechnology                   Objectives of NLP, NLU &amp; NLG\n",
       "4   LanguageTechnology      NLP Conferences with a decent industry track?\n",
       "..                 ...                                                ...\n",
       "95              videos  The Legend of Vox Machina - NYCC Live Read wit...\n",
       "96              videos   Why Fallout: New Vegas is famous for its freedom\n",
       "97              videos      Roblox Funny Moments - SQUID GAME IN ROBLOX!?\n",
       "98              videos                      CAST - An Animated Short Film\n",
       "99              videos  List of Hot Wheels Unleashed Shortcuts, Racing...\n",
       "\n",
       "[200 rows x 2 columns]>"
      ]
     },
     "execution_count": 21,
     "metadata": {},
     "output_type": "execute_result"
    }
   ],
   "source": [
    "df.info"
   ]
  },
  {
   "cell_type": "code",
   "execution_count": 22,
   "id": "24ed6013",
   "metadata": {},
   "outputs": [
    {
     "data": {
      "text/plain": [
       "array(['LanguageTechnology', 'videos'], dtype=object)"
      ]
     },
     "execution_count": 22,
     "metadata": {},
     "output_type": "execute_result"
    }
   ],
   "source": [
    "df['subreddit'].unique()"
   ]
  },
  {
   "cell_type": "markdown",
   "id": "00a02888",
   "metadata": {},
   "source": [
    "# Data Exploration"
   ]
  },
  {
   "cell_type": "code",
   "execution_count": 23,
   "id": "9c4884b5",
   "metadata": {
    "scrolled": true
   },
   "outputs": [
    {
     "data": {
      "text/html": [
       "<div>\n",
       "<style scoped>\n",
       "    .dataframe tbody tr th:only-of-type {\n",
       "        vertical-align: middle;\n",
       "    }\n",
       "\n",
       "    .dataframe tbody tr th {\n",
       "        vertical-align: top;\n",
       "    }\n",
       "\n",
       "    .dataframe thead th {\n",
       "        text-align: right;\n",
       "    }\n",
       "</style>\n",
       "<table border=\"1\" class=\"dataframe\">\n",
       "  <thead>\n",
       "    <tr style=\"text-align: right;\">\n",
       "      <th></th>\n",
       "      <th>subreddit</th>\n",
       "      <th>title</th>\n",
       "    </tr>\n",
       "  </thead>\n",
       "  <tbody>\n",
       "    <tr>\n",
       "      <th>0</th>\n",
       "      <td>1</td>\n",
       "      <td>BART: Denoising Sequence-to-Sequence Pre-train...</td>\n",
       "    </tr>\n",
       "    <tr>\n",
       "      <th>1</th>\n",
       "      <td>1</td>\n",
       "      <td>7 Tips to Quick-start Your Work With Text Usin...</td>\n",
       "    </tr>\n",
       "    <tr>\n",
       "      <th>2</th>\n",
       "      <td>1</td>\n",
       "      <td>Introduction to Natural Language Processing (b...</td>\n",
       "    </tr>\n",
       "    <tr>\n",
       "      <th>3</th>\n",
       "      <td>1</td>\n",
       "      <td>Objectives of NLP, NLU &amp;amp; NLG</td>\n",
       "    </tr>\n",
       "    <tr>\n",
       "      <th>4</th>\n",
       "      <td>1</td>\n",
       "      <td>NLP Conferences with a decent industry track?</td>\n",
       "    </tr>\n",
       "  </tbody>\n",
       "</table>\n",
       "</div>"
      ],
      "text/plain": [
       "   subreddit                                              title\n",
       "0          1  BART: Denoising Sequence-to-Sequence Pre-train...\n",
       "1          1  7 Tips to Quick-start Your Work With Text Usin...\n",
       "2          1  Introduction to Natural Language Processing (b...\n",
       "3          1                   Objectives of NLP, NLU &amp; NLG\n",
       "4          1      NLP Conferences with a decent industry track?"
      ]
     },
     "execution_count": 23,
     "metadata": {},
     "output_type": "execute_result"
    }
   ],
   "source": [
    "df['subreddit'] = df['subreddit'].map({'LanguageTechnology': 1, 'videos': 0}) ## classifying subreddit\n",
    "df.head()"
   ]
  },
  {
   "cell_type": "code",
   "execution_count": 24,
   "id": "18467bc3",
   "metadata": {},
   "outputs": [
    {
     "data": {
      "text/plain": [
       "<Figure size 1440x720 with 0 Axes>"
      ]
     },
     "metadata": {},
     "output_type": "display_data"
    },
    {
     "data": {
      "image/png": "[encoded data removed]",
      "text/plain": [
       "<Figure size 432x288 with 1 Axes>"
      ]
     },
     "metadata": {
      "needs_background": "light"
     },
     "output_type": "display_data"
    }
   ],
   "source": [
    "plt.figure(figsize=(20,10))\n",
    "df.groupby('subreddit').count().plot(kind='bar', color=['goldenrod'])\n",
    "\n",
    "plt.title('Post Counts by Subreddit', fontsize=20);"
   ]
  },
  {
   "cell_type": "code",
   "execution_count": 58,
   "id": "d468627e",
   "metadata": {},
   "outputs": [],
   "source": [
    "df['title'] = df['title'].apply(cleaner)"
   ]
  },
  {
   "cell_type": "code",
   "execution_count": 26,
   "id": "91ea0788",
   "metadata": {
    "scrolled": false
   },
   "outputs": [
    {
     "data": {
      "text/html": [
       "<div>\n",
       "<style scoped>\n",
       "    .dataframe tbody tr th:only-of-type {\n",
       "        vertical-align: middle;\n",
       "    }\n",
       "\n",
       "    .dataframe tbody tr th {\n",
       "        vertical-align: top;\n",
       "    }\n",
       "\n",
       "    .dataframe thead th {\n",
       "        text-align: right;\n",
       "    }\n",
       "</style>\n",
       "<table border=\"1\" class=\"dataframe\">\n",
       "  <thead>\n",
       "    <tr style=\"text-align: right;\">\n",
       "      <th></th>\n",
       "      <th>subreddit</th>\n",
       "      <th>title</th>\n",
       "    </tr>\n",
       "  </thead>\n",
       "  <tbody>\n",
       "    <tr>\n",
       "      <th>0</th>\n",
       "      <td>1</td>\n",
       "      <td>BART: Denoising Sequence-to-Sequence Pre-train...</td>\n",
       "    </tr>\n",
       "    <tr>\n",
       "      <th>1</th>\n",
       "      <td>1</td>\n",
       "      <td>7 Tips to Quick-start Your Work With Text Usin...</td>\n",
       "    </tr>\n",
       "    <tr>\n",
       "      <th>2</th>\n",
       "      <td>1</td>\n",
       "      <td>Introduction to Natural Language Processing (b...</td>\n",
       "    </tr>\n",
       "    <tr>\n",
       "      <th>3</th>\n",
       "      <td>1</td>\n",
       "      <td>Objectives of NLP, NLU &amp;amp; NLG</td>\n",
       "    </tr>\n",
       "    <tr>\n",
       "      <th>4</th>\n",
       "      <td>1</td>\n",
       "      <td>NLP Conferences with a decent industry track?</td>\n",
       "    </tr>\n",
       "    <tr>\n",
       "      <th>...</th>\n",
       "      <td>...</td>\n",
       "      <td>...</td>\n",
       "    </tr>\n",
       "    <tr>\n",
       "      <th>95</th>\n",
       "      <td>0</td>\n",
       "      <td>The Legend of Vox Machina - NYCC Live Read wit...</td>\n",
       "    </tr>\n",
       "    <tr>\n",
       "      <th>96</th>\n",
       "      <td>0</td>\n",
       "      <td>Why Fallout: New Vegas is famous for its freedom</td>\n",
       "    </tr>\n",
       "    <tr>\n",
       "      <th>97</th>\n",
       "      <td>0</td>\n",
       "      <td>Roblox Funny Moments - SQUID GAME IN ROBLOX!?</td>\n",
       "    </tr>\n",
       "    <tr>\n",
       "      <th>98</th>\n",
       "      <td>0</td>\n",
       "      <td>CAST - An Animated Short Film</td>\n",
       "    </tr>\n",
       "    <tr>\n",
       "      <th>99</th>\n",
       "      <td>0</td>\n",
       "      <td>List of Hot Wheels Unleashed Shortcuts, Racing...</td>\n",
       "    </tr>\n",
       "  </tbody>\n",
       "</table>\n",
       "<p>200 rows × 2 columns</p>\n",
       "</div>"
      ],
      "text/plain": [
       "    subreddit                                              title\n",
       "0           1  BART: Denoising Sequence-to-Sequence Pre-train...\n",
       "1           1  7 Tips to Quick-start Your Work With Text Usin...\n",
       "2           1  Introduction to Natural Language Processing (b...\n",
       "3           1                   Objectives of NLP, NLU &amp; NLG\n",
       "4           1      NLP Conferences with a decent industry track?\n",
       "..        ...                                                ...\n",
       "95          0  The Legend of Vox Machina - NYCC Live Read wit...\n",
       "96          0   Why Fallout: New Vegas is famous for its freedom\n",
       "97          0      Roblox Funny Moments - SQUID GAME IN ROBLOX!?\n",
       "98          0                      CAST - An Animated Short Film\n",
       "99          0  List of Hot Wheels Unleashed Shortcuts, Racing...\n",
       "\n",
       "[200 rows x 2 columns]"
      ]
     },
     "execution_count": 26,
     "metadata": {},
     "output_type": "execute_result"
    }
   ],
   "source": [
    "df"
   ]
  },
  {
   "cell_type": "code",
   "execution_count": 27,
   "id": "8e03dc8e",
   "metadata": {},
   "outputs": [
    {
     "data": {
      "text/plain": [
       "(200, 2)"
      ]
     },
     "execution_count": 27,
     "metadata": {},
     "output_type": "execute_result"
    }
   ],
   "source": [
    "df.shape"
   ]
  },
  {
   "cell_type": "code",
   "execution_count": 28,
   "id": "3b370c31",
   "metadata": {},
   "outputs": [
    {
     "data": {
      "text/plain": [
       "3"
      ]
     },
     "execution_count": 28,
     "metadata": {},
     "output_type": "execute_result"
    }
   ],
   "source": [
    "df.duplicated().sum()"
   ]
  },
  {
   "cell_type": "code",
   "execution_count": 29,
   "id": "227850f4",
   "metadata": {
    "scrolled": true
   },
   "outputs": [
    {
     "data": {
      "text/html": [
       "<div>\n",
       "<style scoped>\n",
       "    .dataframe tbody tr th:only-of-type {\n",
       "        vertical-align: middle;\n",
       "    }\n",
       "\n",
       "    .dataframe tbody tr th {\n",
       "        vertical-align: top;\n",
       "    }\n",
       "\n",
       "    .dataframe thead th {\n",
       "        text-align: right;\n",
       "    }\n",
       "</style>\n",
       "<table border=\"1\" class=\"dataframe\">\n",
       "  <thead>\n",
       "    <tr style=\"text-align: right;\">\n",
       "      <th></th>\n",
       "      <th>subreddit</th>\n",
       "      <th>title</th>\n",
       "    </tr>\n",
       "  </thead>\n",
       "  <tbody>\n",
       "    <tr>\n",
       "      <th>46</th>\n",
       "      <td>1</td>\n",
       "      <td>Braifun-nlp: A free Natural Language Processin...</td>\n",
       "    </tr>\n",
       "    <tr>\n",
       "      <th>33</th>\n",
       "      <td>0</td>\n",
       "      <td>TOURING The Frank Lloyd Wright House in Ebswor...</td>\n",
       "    </tr>\n",
       "    <tr>\n",
       "      <th>73</th>\n",
       "      <td>0</td>\n",
       "      <td>Every Haunted House Movie</td>\n",
       "    </tr>\n",
       "  </tbody>\n",
       "</table>\n",
       "</div>"
      ],
      "text/plain": [
       "    subreddit                                              title\n",
       "46          1  Braifun-nlp: A free Natural Language Processin...\n",
       "33          0  TOURING The Frank Lloyd Wright House in Ebswor...\n",
       "73          0                          Every Haunted House Movie"
      ]
     },
     "execution_count": 29,
     "metadata": {},
     "output_type": "execute_result"
    }
   ],
   "source": [
    "df[df.duplicated()].head()  ### any duplicate?"
   ]
  },
  {
   "cell_type": "code",
   "execution_count": 30,
   "id": "6860d8f1",
   "metadata": {
    "scrolled": true
   },
   "outputs": [
    {
     "data": {
      "text/html": [
       "<div>\n",
       "<style scoped>\n",
       "    .dataframe tbody tr th:only-of-type {\n",
       "        vertical-align: middle;\n",
       "    }\n",
       "\n",
       "    .dataframe tbody tr th {\n",
       "        vertical-align: top;\n",
       "    }\n",
       "\n",
       "    .dataframe thead th {\n",
       "        text-align: right;\n",
       "    }\n",
       "</style>\n",
       "<table border=\"1\" class=\"dataframe\">\n",
       "  <thead>\n",
       "    <tr style=\"text-align: right;\">\n",
       "      <th></th>\n",
       "      <th>subreddit</th>\n",
       "      <th>title</th>\n",
       "    </tr>\n",
       "  </thead>\n",
       "  <tbody>\n",
       "    <tr>\n",
       "      <th>46</th>\n",
       "      <td>1</td>\n",
       "      <td>Braifun-nlp: A free Natural Language Processin...</td>\n",
       "    </tr>\n",
       "    <tr>\n",
       "      <th>33</th>\n",
       "      <td>0</td>\n",
       "      <td>TOURING The Frank Lloyd Wright House in Ebswor...</td>\n",
       "    </tr>\n",
       "    <tr>\n",
       "      <th>73</th>\n",
       "      <td>0</td>\n",
       "      <td>Every Haunted House Movie</td>\n",
       "    </tr>\n",
       "  </tbody>\n",
       "</table>\n",
       "</div>"
      ],
      "text/plain": [
       "    subreddit                                              title\n",
       "46          1  Braifun-nlp: A free Natural Language Processin...\n",
       "33          0  TOURING The Frank Lloyd Wright House in Ebswor...\n",
       "73          0                          Every Haunted House Movie"
      ]
     },
     "execution_count": 30,
     "metadata": {},
     "output_type": "execute_result"
    }
   ],
   "source": [
    "df[df.duplicated()].tail() ## more duplicate?"
   ]
  },
  {
   "cell_type": "code",
   "execution_count": 31,
   "id": "a01420b7",
   "metadata": {},
   "outputs": [
    {
     "data": {
      "text/plain": [
       "'Braifun-nlp: A free Natural Language Processing tool to help Researchers brain storm their ideas (Alpha release)'"
      ]
     },
     "execution_count": 31,
     "metadata": {},
     "output_type": "execute_result"
    }
   ],
   "source": [
    "LanguageTechnology_post = list(df[df.duplicated()]['title'])[0] ### show duplicated titles from LT\n",
    "LanguageTechnology_post"
   ]
  },
  {
   "cell_type": "code",
   "execution_count": 32,
   "id": "ab948394",
   "metadata": {},
   "outputs": [
    {
     "data": {
      "text/plain": [
       "2"
      ]
     },
     "execution_count": 32,
     "metadata": {},
     "output_type": "execute_result"
    }
   ],
   "source": [
    "len(df[df['title'] == LanguageTechnology_post])\n"
   ]
  },
  {
   "cell_type": "code",
   "execution_count": 33,
   "id": "cdfbb719",
   "metadata": {},
   "outputs": [
    {
     "data": {
      "text/plain": [
       "'Braifun-nlp: A free Natural Language Processing tool to help Researchers brain storm their ideas (Alpha release)'"
      ]
     },
     "execution_count": 33,
     "metadata": {},
     "output_type": "execute_result"
    }
   ],
   "source": [
    "videos_post = list(df[df.duplicated()]['title'])[0]\n",
    "videos_post"
   ]
  },
  {
   "cell_type": "code",
   "execution_count": 34,
   "id": "4b7834a8",
   "metadata": {},
   "outputs": [
    {
     "data": {
      "text/plain": [
       "2"
      ]
     },
     "execution_count": 34,
     "metadata": {},
     "output_type": "execute_result"
    }
   ],
   "source": [
    "len(df[df['title'] == videos_post])\n"
   ]
  },
  {
   "cell_type": "code",
   "execution_count": 35,
   "id": "e9adf1ef",
   "metadata": {},
   "outputs": [
    {
     "data": {
      "text/html": [
       "<div>\n",
       "<style scoped>\n",
       "    .dataframe tbody tr th:only-of-type {\n",
       "        vertical-align: middle;\n",
       "    }\n",
       "\n",
       "    .dataframe tbody tr th {\n",
       "        vertical-align: top;\n",
       "    }\n",
       "\n",
       "    .dataframe thead th {\n",
       "        text-align: right;\n",
       "    }\n",
       "</style>\n",
       "<table border=\"1\" class=\"dataframe\">\n",
       "  <thead>\n",
       "    <tr style=\"text-align: right;\">\n",
       "      <th></th>\n",
       "      <th>subreddit</th>\n",
       "      <th>title</th>\n",
       "    </tr>\n",
       "  </thead>\n",
       "  <tbody>\n",
       "    <tr>\n",
       "      <th>33</th>\n",
       "      <td>0</td>\n",
       "      <td>TOURING The Frank Lloyd Wright House in Ebswor...</td>\n",
       "    </tr>\n",
       "    <tr>\n",
       "      <th>73</th>\n",
       "      <td>0</td>\n",
       "      <td>Every Haunted House Movie</td>\n",
       "    </tr>\n",
       "  </tbody>\n",
       "</table>\n",
       "</div>"
      ],
      "text/plain": [
       "    subreddit                                              title\n",
       "33          0  TOURING The Frank Lloyd Wright House in Ebswor...\n",
       "73          0                          Every Haunted House Movie"
      ]
     },
     "execution_count": 35,
     "metadata": {},
     "output_type": "execute_result"
    }
   ],
   "source": [
    "# look at other duplicate posts\n",
    "df[df.duplicated() & (df['title'] != LanguageTechnology_post) & (df['title'] != videos_post)].head(10)"
   ]
  },
  {
   "cell_type": "code",
   "execution_count": 36,
   "id": "e5595022",
   "metadata": {},
   "outputs": [
    {
     "data": {
      "text/html": [
       "<div>\n",
       "<style scoped>\n",
       "    .dataframe tbody tr th:only-of-type {\n",
       "        vertical-align: middle;\n",
       "    }\n",
       "\n",
       "    .dataframe tbody tr th {\n",
       "        vertical-align: top;\n",
       "    }\n",
       "\n",
       "    .dataframe thead th {\n",
       "        text-align: right;\n",
       "    }\n",
       "</style>\n",
       "<table border=\"1\" class=\"dataframe\">\n",
       "  <thead>\n",
       "    <tr style=\"text-align: right;\">\n",
       "      <th></th>\n",
       "      <th>subreddit</th>\n",
       "      <th>title</th>\n",
       "    </tr>\n",
       "  </thead>\n",
       "  <tbody>\n",
       "    <tr>\n",
       "      <th>33</th>\n",
       "      <td>0</td>\n",
       "      <td>TOURING The Frank Lloyd Wright House in Ebswor...</td>\n",
       "    </tr>\n",
       "    <tr>\n",
       "      <th>73</th>\n",
       "      <td>0</td>\n",
       "      <td>Every Haunted House Movie</td>\n",
       "    </tr>\n",
       "  </tbody>\n",
       "</table>\n",
       "</div>"
      ],
      "text/plain": [
       "    subreddit                                              title\n",
       "33          0  TOURING The Frank Lloyd Wright House in Ebswor...\n",
       "73          0                          Every Haunted House Movie"
      ]
     },
     "execution_count": 36,
     "metadata": {},
     "output_type": "execute_result"
    }
   ],
   "source": [
    "# look at other duplicate posts\n",
    "df[df.duplicated() & (df['title'] != LanguageTechnology_post) & (df['title'] != videos_post)].tail(10)"
   ]
  },
  {
   "cell_type": "code",
   "execution_count": 37,
   "id": "811ce591",
   "metadata": {},
   "outputs": [
    {
     "data": {
      "text/plain": [
       "(200, 2)"
      ]
     },
     "execution_count": 37,
     "metadata": {},
     "output_type": "execute_result"
    }
   ],
   "source": [
    "df.shape"
   ]
  },
  {
   "cell_type": "code",
   "execution_count": 38,
   "id": "60cc0dbd",
   "metadata": {},
   "outputs": [],
   "source": [
    "df.drop_duplicates(inplace=True) ## dublicates should go in peace!"
   ]
  },
  {
   "cell_type": "code",
   "execution_count": 39,
   "id": "a0a45491",
   "metadata": {},
   "outputs": [
    {
     "data": {
      "text/plain": [
       "(197, 2)"
      ]
     },
     "execution_count": 39,
     "metadata": {},
     "output_type": "execute_result"
    }
   ],
   "source": [
    "df.shape"
   ]
  },
  {
   "cell_type": "code",
   "execution_count": 40,
   "id": "f041100b",
   "metadata": {},
   "outputs": [],
   "source": [
    "## Cleaning!! cleaning!!!\n",
    "# some of these are redundant with the default functions of CountVectorizer\n",
    "\n",
    "def cleaner(text):\n",
    "    # Make lowercase\n",
    "    text = text.lower()\n",
    "\n",
    "    # Remove HTML special entities (e.g. &amp;)\n",
    "    text = re.sub(r'\\&\\w*;', '', text)\n",
    "    \n",
    "    # Remove hyperlinks\n",
    "    text = re.sub(r'https?:\\/\\/.*\\/\\w*', '', text)\n",
    "    \n",
    "    # Remove punctuation and split 's, 't, 've with a space for filter\n",
    "    text = re.sub(r'[' + string.punctuation.replace('@', '') + ']+', ' ', text)\n",
    "    \n",
    "    # Remove words with 2 or fewer letters\n",
    "    text = re.sub(r'\\b\\w{1,2}\\b', '', text)\n",
    "    \n",
    "    # Remove whitespace (including new line characters)\n",
    "    text = re.sub(r'\\s\\s+', ' ', text)\n",
    "    \n",
    "    # Remove characters beyond Basic Multilingual Plane (BMP) of Unicode:\n",
    "    text = ''.join(c for c in text if c <= '\\uFFFF') \n",
    "    \n",
    "    return text\n",
    "## Adapated from class note on 5.03,5.04,5.05,5.02"
   ]
  },
  {
   "cell_type": "code",
   "execution_count": 41,
   "id": "789761c1",
   "metadata": {},
   "outputs": [],
   "source": [
    "df['title'] = df['title'].apply(cleaner)"
   ]
  },
  {
   "cell_type": "code",
   "execution_count": 42,
   "id": "4f8a1317",
   "metadata": {},
   "outputs": [
    {
     "data": {
      "text/plain": [
       "(197, 2)"
      ]
     },
     "execution_count": 42,
     "metadata": {},
     "output_type": "execute_result"
    }
   ],
   "source": [
    "df.shape"
   ]
  },
  {
   "cell_type": "code",
   "execution_count": 43,
   "id": "93ae101d",
   "metadata": {},
   "outputs": [],
   "source": [
    "# drop rows where title = ''\n",
    "df = df[df['title'] != '']\n",
    "df = df.reset_index(drop=True)"
   ]
  },
  {
   "cell_type": "code",
   "execution_count": 44,
   "id": "4a3bd3b5",
   "metadata": {},
   "outputs": [
    {
     "data": {
      "text/plain": [
       "(197, 2)"
      ]
     },
     "execution_count": 44,
     "metadata": {},
     "output_type": "execute_result"
    }
   ],
   "source": [
    "df.shape"
   ]
  },
  {
   "cell_type": "markdown",
   "id": "d511492a",
   "metadata": {},
   "source": [
    "# Pre-Processing"
   ]
  },
  {
   "cell_type": "code",
   "execution_count": 45,
   "id": "1a9e8171",
   "metadata": {},
   "outputs": [],
   "source": [
    "from nltk.stem import WordNetLemmatizer\n",
    "lemmatizer = WordNetLemmatizer()\n",
    "\n",
    "def lemmatize_words(text):\n",
    "    words = text.split()\n",
    "    lemma_words = ''\n",
    "    for word in words:\n",
    "        lemma_words += (lemmatizer.lemmatize(word) + ' ')\n",
    "    return lemma_words\n",
    "## adapted from class note on Language Data Pre-Processing and Sentiment Analysis"
   ]
  },
  {
   "cell_type": "code",
   "execution_count": 46,
   "id": "f057e5da",
   "metadata": {},
   "outputs": [
    {
     "data": {
      "text/html": [
       "<div>\n",
       "<style scoped>\n",
       "    .dataframe tbody tr th:only-of-type {\n",
       "        vertical-align: middle;\n",
       "    }\n",
       "\n",
       "    .dataframe tbody tr th {\n",
       "        vertical-align: top;\n",
       "    }\n",
       "\n",
       "    .dataframe thead th {\n",
       "        text-align: right;\n",
       "    }\n",
       "</style>\n",
       "<table border=\"1\" class=\"dataframe\">\n",
       "  <thead>\n",
       "    <tr style=\"text-align: right;\">\n",
       "      <th></th>\n",
       "      <th>subreddit</th>\n",
       "      <th>title</th>\n",
       "    </tr>\n",
       "  </thead>\n",
       "  <tbody>\n",
       "    <tr>\n",
       "      <th>0</th>\n",
       "      <td>1</td>\n",
       "      <td>bart denoising sequence sequence pre training ...</td>\n",
       "    </tr>\n",
       "    <tr>\n",
       "      <th>1</th>\n",
       "      <td>1</td>\n",
       "      <td>tip quick start your work with text using panda</td>\n",
       "    </tr>\n",
       "    <tr>\n",
       "      <th>2</th>\n",
       "      <td>1</td>\n",
       "      <td>introduction natural language processing blog</td>\n",
       "    </tr>\n",
       "    <tr>\n",
       "      <th>3</th>\n",
       "      <td>1</td>\n",
       "      <td>objective nlp nlu nlg</td>\n",
       "    </tr>\n",
       "    <tr>\n",
       "      <th>4</th>\n",
       "      <td>1</td>\n",
       "      <td>nlp conference with decent industry track</td>\n",
       "    </tr>\n",
       "    <tr>\n",
       "      <th>...</th>\n",
       "      <td>...</td>\n",
       "      <td>...</td>\n",
       "    </tr>\n",
       "    <tr>\n",
       "      <th>192</th>\n",
       "      <td>0</td>\n",
       "      <td>the legend vox machina nycc live read with ani...</td>\n",
       "    </tr>\n",
       "    <tr>\n",
       "      <th>193</th>\n",
       "      <td>0</td>\n",
       "      <td>why fallout new vega famous for it freedom</td>\n",
       "    </tr>\n",
       "    <tr>\n",
       "      <th>194</th>\n",
       "      <td>0</td>\n",
       "      <td>roblox funny moment squid game roblox</td>\n",
       "    </tr>\n",
       "    <tr>\n",
       "      <th>195</th>\n",
       "      <td>0</td>\n",
       "      <td>cast animated short film</td>\n",
       "    </tr>\n",
       "    <tr>\n",
       "      <th>196</th>\n",
       "      <td>0</td>\n",
       "      <td>list hot wheel unleashed shortcut racing pro s...</td>\n",
       "    </tr>\n",
       "  </tbody>\n",
       "</table>\n",
       "<p>197 rows × 2 columns</p>\n",
       "</div>"
      ],
      "text/plain": [
       "     subreddit                                              title\n",
       "0            1  bart denoising sequence sequence pre training ...\n",
       "1            1   tip quick start your work with text using panda \n",
       "2            1     introduction natural language processing blog \n",
       "3            1                             objective nlp nlu nlg \n",
       "4            1         nlp conference with decent industry track \n",
       "..         ...                                                ...\n",
       "192          0  the legend vox machina nycc live read with ani...\n",
       "193          0        why fallout new vega famous for it freedom \n",
       "194          0             roblox funny moment squid game roblox \n",
       "195          0                          cast animated short film \n",
       "196          0  list hot wheel unleashed shortcut racing pro s...\n",
       "\n",
       "[197 rows x 2 columns]"
      ]
     },
     "execution_count": 46,
     "metadata": {},
     "output_type": "execute_result"
    }
   ],
   "source": [
    "df['title'] = df['title'].apply(lemmatize_words)\n",
    "df"
   ]
  },
  {
   "cell_type": "code",
   "execution_count": 47,
   "id": "70d51154",
   "metadata": {},
   "outputs": [
    {
     "data": {
      "text/plain": [
       "(197, 2)"
      ]
     },
     "execution_count": 47,
     "metadata": {},
     "output_type": "execute_result"
    }
   ],
   "source": [
    "df.shape"
   ]
  },
  {
   "cell_type": "markdown",
   "id": "4064f6da",
   "metadata": {},
   "source": [
    "# CountVectorizer"
   ]
  },
  {
   "cell_type": "markdown",
   "id": "1a7c7860",
   "metadata": {},
   "source": [
    "### Most frequent LanguageTechnology words"
   ]
  },
  {
   "cell_type": "code",
   "execution_count": 48,
   "id": "d4083425",
   "metadata": {},
   "outputs": [],
   "source": [
    "# Easy way to get most frequently used words: change max_features\n",
    "\n",
    "count_vect = CountVectorizer(analyzer = \"word\", \n",
    "                             tokenizer = None, \n",
    "                             preprocessor = None,\n",
    "                             stop_words = \"english\", \n",
    "                             max_features = 35) \n",
    "\n",
    "# input for CountVectorizer is an array of strings\n",
    "vector_input_LT = df[df['subreddit'] == 1]['title']\n",
    "\n",
    "# fit_transform the vectorizer\n",
    "LT_words = count_vect.fit_transform(vector_input_LT)\n",
    "\n",
    "# convert output to a Numpy array\n",
    "LT_words = LT_words.toarray()\n",
    "# adapted from class note on Language Data Pre-Processing and Sentiment Analysis"
   ]
  },
  {
   "cell_type": "code",
   "execution_count": 49,
   "id": "2f16fee0",
   "metadata": {},
   "outputs": [
    {
     "name": "stdout",
     "output_type": "stream",
     "text": [
      "['bert', 'best', 'classification', 'creating', 'data', 'fine', 'free', 'help', 'language', 'learning', 'looking', 'model', 'natural', 'need', 'new', 'nlp', 'pre', 'processing', 'project', 'pytorch', 'question', 'release', 'roberta', 'speech', 'text', 'topic', 'trained', 'training', 'transformer', 'tuning', 'understand', 'using', 'way', 'word', 'work']\n"
     ]
    }
   ],
   "source": [
    "# get the words\n",
    "LT_word_list = count_vect.get_feature_names()\n",
    "print(LT_word_list)"
   ]
  },
  {
   "cell_type": "code",
   "execution_count": 50,
   "id": "b712c17d",
   "metadata": {},
   "outputs": [],
   "source": [
    "# Easy way to get most frequently used words: change max_features\n",
    "\n",
    "count_vect = CountVectorizer(analyzer = \"word\", \n",
    "                             tokenizer = None, \n",
    "                             preprocessor = None,\n",
    "                             stop_words = \"english\", \n",
    "                             max_features = 36) \n",
    "\n",
    "# input for CountVectorizer is an array of strings\n",
    "vector_input_videos = df[df['subreddit'] == 0]['title']\n",
    "\n",
    "# fit_transform the vectorizer\n",
    "vd_words = count_vect.fit_transform(vector_input_videos)\n",
    "\n",
    "# convert output to a Numpy array\n",
    "vd_words = vd_words.toarray()"
   ]
  },
  {
   "cell_type": "code",
   "execution_count": 51,
   "id": "c0256b2e",
   "metadata": {},
   "outputs": [
    {
     "name": "stdout",
     "output_type": "stream",
     "text": [
      "['beat', 'change', 'check', 'city', 'coffee', 'current', 'dread', 'free', 'freedom', 'game', 'halloween', 'history', 'hot', 'house', 'human', 'ing', 'just', 'know', 'moment', 'movie', 'new', 'night', 'nycc', 'official', 'review', 'short', 'shortcut', 'shy', 'siri', 'smash', 'sora', 'thing', 'time', 'treasure', 'unleashed', 'video']\n"
     ]
    }
   ],
   "source": [
    "# get the words\n",
    "vd_word_list = count_vect.get_feature_names()\n",
    "print(vd_word_list)"
   ]
  },
  {
   "cell_type": "markdown",
   "id": "25ae7597",
   "metadata": {},
   "source": [
    "### edit stop words"
   ]
  },
  {
   "cell_type": "markdown",
   "id": "91baf229",
   "metadata": {},
   "source": [
    "#### add non-meaningful words from the \"most frequent\" lists above to the stop words dictionary"
   ]
  },
  {
   "cell_type": "code",
   "execution_count": 52,
   "id": "b91d55c0",
   "metadata": {},
   "outputs": [
    {
     "data": {
      "text/plain": [
       "frozenset({'a',\n",
       "           'about',\n",
       "           'above',\n",
       "           'across',\n",
       "           'after',\n",
       "           'afterwards',\n",
       "           'again',\n",
       "           'against',\n",
       "           'all',\n",
       "           'almost',\n",
       "           'alone',\n",
       "           'along',\n",
       "           'already',\n",
       "           'also',\n",
       "           'although',\n",
       "           'always',\n",
       "           'am',\n",
       "           'among',\n",
       "           'amongst',\n",
       "           'amoungst',\n",
       "           'amount',\n",
       "           'an',\n",
       "           'and',\n",
       "           'another',\n",
       "           'any',\n",
       "           'anyhow',\n",
       "           'anyone',\n",
       "           'anything',\n",
       "           'anyway',\n",
       "           'anywhere',\n",
       "           'are',\n",
       "           'around',\n",
       "           'as',\n",
       "           'at',\n",
       "           'back',\n",
       "           'be',\n",
       "           'became',\n",
       "           'because',\n",
       "           'become',\n",
       "           'becomes',\n",
       "           'becoming',\n",
       "           'been',\n",
       "           'before',\n",
       "           'beforehand',\n",
       "           'behind',\n",
       "           'being',\n",
       "           'below',\n",
       "           'beside',\n",
       "           'besides',\n",
       "           'between',\n",
       "           'beyond',\n",
       "           'bill',\n",
       "           'both',\n",
       "           'bottom',\n",
       "           'but',\n",
       "           'by',\n",
       "           'call',\n",
       "           'can',\n",
       "           'cannot',\n",
       "           'cant',\n",
       "           'co',\n",
       "           'con',\n",
       "           'could',\n",
       "           'couldnt',\n",
       "           'cry',\n",
       "           'de',\n",
       "           'describe',\n",
       "           'detail',\n",
       "           'did',\n",
       "           'do',\n",
       "           'doe',\n",
       "           'doesn',\n",
       "           'don',\n",
       "           'done',\n",
       "           'down',\n",
       "           'due',\n",
       "           'during',\n",
       "           'each',\n",
       "           'eg',\n",
       "           'eight',\n",
       "           'either',\n",
       "           'eleven',\n",
       "           'else',\n",
       "           'elsewhere',\n",
       "           'empty',\n",
       "           'enough',\n",
       "           'etc',\n",
       "           'even',\n",
       "           'ever',\n",
       "           'every',\n",
       "           'everyone',\n",
       "           'everything',\n",
       "           'everywhere',\n",
       "           'except',\n",
       "           'few',\n",
       "           'fifteen',\n",
       "           'fifty',\n",
       "           'fill',\n",
       "           'find',\n",
       "           'fire',\n",
       "           'first',\n",
       "           'five',\n",
       "           'for',\n",
       "           'former',\n",
       "           'formerly',\n",
       "           'forty',\n",
       "           'found',\n",
       "           'four',\n",
       "           'from',\n",
       "           'front',\n",
       "           'full',\n",
       "           'further',\n",
       "           'get',\n",
       "           'getting',\n",
       "           'give',\n",
       "           'go',\n",
       "           'going',\n",
       "           'got',\n",
       "           'ha',\n",
       "           'had',\n",
       "           'has',\n",
       "           'hasnt',\n",
       "           'have',\n",
       "           'he',\n",
       "           'hence',\n",
       "           'her',\n",
       "           'here',\n",
       "           'hereafter',\n",
       "           'hereby',\n",
       "           'herein',\n",
       "           'hereupon',\n",
       "           'hers',\n",
       "           'herself',\n",
       "           'him',\n",
       "           'himself',\n",
       "           'his',\n",
       "           'how',\n",
       "           'however',\n",
       "           'hundred',\n",
       "           'i',\n",
       "           'ie',\n",
       "           'if',\n",
       "           'in',\n",
       "           'inc',\n",
       "           'indeed',\n",
       "           'interest',\n",
       "           'into',\n",
       "           'is',\n",
       "           'isn',\n",
       "           'it',\n",
       "           'its',\n",
       "           'itself',\n",
       "           'keep',\n",
       "           'last',\n",
       "           'latter',\n",
       "           'latterly',\n",
       "           'least',\n",
       "           'less',\n",
       "           'ltd',\n",
       "           'made',\n",
       "           'many',\n",
       "           'may',\n",
       "           'me',\n",
       "           'meanwhile',\n",
       "           'might',\n",
       "           'mill',\n",
       "           'mine',\n",
       "           'more',\n",
       "           'moreover',\n",
       "           'most',\n",
       "           'mostly',\n",
       "           'move',\n",
       "           'much',\n",
       "           'must',\n",
       "           'my',\n",
       "           'myself',\n",
       "           'name',\n",
       "           'namely',\n",
       "           'neither',\n",
       "           'never',\n",
       "           'nevertheless',\n",
       "           'next',\n",
       "           'nine',\n",
       "           'no',\n",
       "           'nobody',\n",
       "           'none',\n",
       "           'noone',\n",
       "           'nor',\n",
       "           'not',\n",
       "           'nothing',\n",
       "           'now',\n",
       "           'nowhere',\n",
       "           'of',\n",
       "           'off',\n",
       "           'often',\n",
       "           'on',\n",
       "           'once',\n",
       "           'one',\n",
       "           'only',\n",
       "           'onto',\n",
       "           'or',\n",
       "           'other',\n",
       "           'others',\n",
       "           'otherwise',\n",
       "           'our',\n",
       "           'ours',\n",
       "           'ourselves',\n",
       "           'out',\n",
       "           'over',\n",
       "           'own',\n",
       "           'part',\n",
       "           'per',\n",
       "           'perhaps',\n",
       "           'please',\n",
       "           'put',\n",
       "           'rather',\n",
       "           're',\n",
       "           'same',\n",
       "           'see',\n",
       "           'seem',\n",
       "           'seemed',\n",
       "           'seeming',\n",
       "           'seems',\n",
       "           'serious',\n",
       "           'several',\n",
       "           'she',\n",
       "           'should',\n",
       "           'show',\n",
       "           'side',\n",
       "           'since',\n",
       "           'sincere',\n",
       "           'six',\n",
       "           'sixty',\n",
       "           'so',\n",
       "           'some',\n",
       "           'somehow',\n",
       "           'someone',\n",
       "           'something',\n",
       "           'sometime',\n",
       "           'sometimes',\n",
       "           'somewhere',\n",
       "           'still',\n",
       "           'such',\n",
       "           'system',\n",
       "           'take',\n",
       "           'ten',\n",
       "           'than',\n",
       "           'that',\n",
       "           'the',\n",
       "           'their',\n",
       "           'them',\n",
       "           'themselves',\n",
       "           'then',\n",
       "           'thence',\n",
       "           'there',\n",
       "           'thereafter',\n",
       "           'thereby',\n",
       "           'therefore',\n",
       "           'therein',\n",
       "           'thereupon',\n",
       "           'these',\n",
       "           'they',\n",
       "           'thick',\n",
       "           'thin',\n",
       "           'third',\n",
       "           'this',\n",
       "           'those',\n",
       "           'though',\n",
       "           'three',\n",
       "           'through',\n",
       "           'throughout',\n",
       "           'thru',\n",
       "           'thus',\n",
       "           'to',\n",
       "           'together',\n",
       "           'too',\n",
       "           'top',\n",
       "           'toward',\n",
       "           'towards',\n",
       "           'twelve',\n",
       "           'twenty',\n",
       "           'two',\n",
       "           'un',\n",
       "           'under',\n",
       "           'until',\n",
       "           'up',\n",
       "           'upon',\n",
       "           'us',\n",
       "           'very',\n",
       "           'via',\n",
       "           'wa',\n",
       "           'was',\n",
       "           'we',\n",
       "           'well',\n",
       "           'were',\n",
       "           'what',\n",
       "           'whatever',\n",
       "           'when',\n",
       "           'whence',\n",
       "           'whenever',\n",
       "           'where',\n",
       "           'whereafter',\n",
       "           'whereas',\n",
       "           'whereby',\n",
       "           'wherein',\n",
       "           'whereupon',\n",
       "           'wherever',\n",
       "           'whether',\n",
       "           'which',\n",
       "           'while',\n",
       "           'whither',\n",
       "           'who',\n",
       "           'whoever',\n",
       "           'whole',\n",
       "           'whom',\n",
       "           'whose',\n",
       "           'why',\n",
       "           'will',\n",
       "           'with',\n",
       "           'within',\n",
       "           'without',\n",
       "           'would',\n",
       "           'yet',\n",
       "           'you',\n",
       "           'your',\n",
       "           'yours',\n",
       "           'yourself',\n",
       "           'yourselves'})"
      ]
     },
     "execution_count": 52,
     "metadata": {},
     "output_type": "execute_result"
    }
   ],
   "source": [
    "from sklearn.feature_extraction import text\n",
    "\n",
    "text.ENGLISH_STOP_WORDS\n",
    "\n",
    "add_stop_words = ['did', 'doe', 'don', 'doesn', 'getting', 'going', 'got', 'ha', 'isn', 'wa']\n",
    "\n",
    "stop_words = text.ENGLISH_STOP_WORDS.union(add_stop_words)\n",
    "\n",
    "stop_words"
   ]
  },
  {
   "cell_type": "markdown",
   "id": "0a68b925",
   "metadata": {},
   "source": [
    "### LanguageTechnology Versus videos 100 words"
   ]
  },
  {
   "cell_type": "code",
   "execution_count": 53,
   "id": "c502695e",
   "metadata": {},
   "outputs": [],
   "source": [
    "# THE GOAL IS TO FIND  100 FROM EACH subreddit that are same & to also find the  difference"
   ]
  },
  {
   "cell_type": "code",
   "execution_count": 54,
   "id": "c6e57ba0",
   "metadata": {},
   "outputs": [],
   "source": [
    "# Instantiate 'CountVectorizer' object and 'CountVectorizer' transformer\n",
    "\n",
    "count_vect = CountVectorizer(analyzer = \"word\", \n",
    "                             tokenizer = None, \n",
    "                             preprocessor = None,\n",
    "                             stop_words = stop_words, \n",
    "                             max_features = 10000, \n",
    "                             ngram_range=(1, 3)\n",
    "                            ) \n",
    "\n",
    "# input for CountVectorizer is an array of strings\n",
    "vector_input_lt = df[df['subreddit'] == 1]['title']\n",
    "\n",
    "# fit_transform the vectorizer\n",
    "lt_words = count_vect.fit_transform(vector_input_lt)\n",
    "\n",
    "# convert output to a Numpy array\n",
    "lt_words = lt_words.toarray()\n"
   ]
  },
  {
   "cell_type": "code",
   "execution_count": 55,
   "id": "51dfe4b3",
   "metadata": {
    "scrolled": true
   },
   "outputs": [
    {
     "data": {
      "text/plain": [
       "nlp                            26\n",
       "model                          20\n",
       "text                           14\n",
       "language                        9\n",
       "data                            9\n",
       "new                             8\n",
       "using                           8\n",
       "training                        7\n",
       "bert                            7\n",
       "transformer                     6\n",
       "nlp project                     5\n",
       "project                         5\n",
       "looking                         5\n",
       "language processing             5\n",
       "pre                             5\n",
       "processing                      5\n",
       "natural                         5\n",
       "natural language                5\n",
       "natural language processing     5\n",
       "tuning                          4\n",
       "dtype: int64"
      ]
     },
     "execution_count": 55,
     "metadata": {},
     "output_type": "execute_result"
    }
   ],
   "source": [
    "lt_matrix = pd.DataFrame(lt_words, columns=count_vect.get_feature_names())\n",
    "\n",
    "lt_matrix.sum().sort_values(ascending=False).head(20)"
   ]
  },
  {
   "cell_type": "code",
   "execution_count": null,
   "id": "38c12d0f",
   "metadata": {},
   "outputs": [],
   "source": [
    "description_list = df['description'].values.tolist()\n",
    "\n",
    "from collections import Counter\n",
    "Counter(\" \".join(description_list).split()).most_common(10)\n",
    "\n",
    "#histogram \n",
    "plt.bar(x, y)\n",
    "plt.title(\"10 most frequent tokens in description\")\n",
    "plt.ylabel(\"Frequency\")\n",
    "plt.xlabel(\"Words\")\n",
    "plt.show"
   ]
  },
  {
   "cell_type": "code",
   "execution_count": 290,
   "id": "83def6c4",
   "metadata": {},
   "outputs": [
    {
     "data": {
      "text/plain": [
       "nlp      0.252525\n",
       "model    0.202020\n",
       "text     0.151515\n",
       "new      0.090909\n",
       "data     0.090909\n",
       "dtype: float64"
      ]
     },
     "execution_count": 290,
     "metadata": {},
     "output_type": "execute_result"
    }
   ],
   "source": [
    "lt_mean = lt_matrix.mean().sort_values(ascending=False) ### mean of lt_matrix\n",
    "lt_mean.head()"
   ]
  },
  {
   "cell_type": "code",
   "execution_count": 256,
   "id": "a9ce8795",
   "metadata": {},
   "outputs": [
    {
     "data": {
      "text/plain": [
       "(array([1.187e+03, 1.290e+02, 1.400e+01, 1.200e+01, 2.000e+00, 1.000e+00,\n",
       "        0.000e+00, 0.000e+00, 2.000e+00, 1.000e+00]),\n",
       " array([0.0010616 , 0.0040564 , 0.00705121, 0.01004601, 0.01304082,\n",
       "        0.01603563, 0.01903043, 0.02202524, 0.02502004, 0.02801485,\n",
       "        0.03100966]),\n",
       " <BarContainer object of 10 artists>)"
      ]
     },
     "execution_count": 256,
     "metadata": {},
     "output_type": "execute_result"
    },
    {
     "data": {
      "image/png": "[encoded data removed]",
      "text/plain": [
       "<Figure size 432x288 with 1 Axes>"
      ]
     },
     "metadata": {
      "needs_background": "light"
     },
     "output_type": "display_data"
    }
   ],
   "source": [
    "counts, bins = np.histogram(lt_mean)\n",
    "plt.hist(bins[:-1], bins, weights=counts)"
   ]
  },
  {
   "cell_type": "code",
   "execution_count": 203,
   "id": "ec9e9425",
   "metadata": {},
   "outputs": [],
   "source": [
    "count_vect = CountVectorizer(analyzer = \"word\", \n",
    "                             tokenizer = None, \n",
    "                             preprocessor = None,\n",
    "                             stop_words = stop_words, \n",
    "                             max_features = 10000, \n",
    "                             ngram_range=(1, 3)\n",
    "                            ) \n",
    "\n",
    "# input for CountVectorizer is an array of strings\n",
    "vector_input_vd = df[df['subreddit'] == 0]['title']\n",
    "\n",
    "# fit_transform the vectorizer\n",
    "vd_words = count_vect.fit_transform(vector_input_vd)\n",
    "\n",
    "# convert output to a Numpy array\n",
    "vd_words = vd_words.toarray()\n"
   ]
  },
  {
   "cell_type": "code",
   "execution_count": 204,
   "id": "68c52b7f",
   "metadata": {},
   "outputs": [
    {
     "data": {
      "text/plain": [
       "video                    6\n",
       "home                     4\n",
       "official                 3\n",
       "internet                 3\n",
       "baby                     3\n",
       "movie                    3\n",
       "talk                     3\n",
       "best                     3\n",
       "dog                      3\n",
       "like                     3\n",
       "mod                      3\n",
       "trailer                  3\n",
       "tour                     3\n",
       "reddit                   3\n",
       "new                      3\n",
       "bonanza                  2\n",
       "anti                     2\n",
       "squid game               2\n",
       "style                    2\n",
       "rice                     2\n",
       "cambium                  2\n",
       "cambium cada             2\n",
       "2019                     2\n",
       "cambium cada segundos    2\n",
       "world                    2\n",
       "rick                     2\n",
       "mapa                     2\n",
       "mapa cambium             2\n",
       "mapa cambium cada        2\n",
       "archive                  2\n",
       "2021                     2\n",
       "season                   2\n",
       "man                      2\n",
       "elementor                2\n",
       "rewind                   2\n",
       "house                    2\n",
       "spiderman                2\n",
       "watch                    2\n",
       "day                      2\n",
       "way                      2\n",
       "science                  2\n",
       "crash                    2\n",
       "food                     2\n",
       "squid                    2\n",
       "bruce                    2\n",
       "cada                     2\n",
       "sora                     2\n",
       "cada segundos            2\n",
       "hacker                   2\n",
       "discount                 2\n",
       "dtype: int64"
      ]
     },
     "execution_count": 204,
     "metadata": {},
     "output_type": "execute_result"
    }
   ],
   "source": [
    "vd_matrix = pd.DataFrame(vd_words, columns=count_vect.get_feature_names())\n",
    "\n",
    "vd_matrix.sum().sort_values(ascending=False).head(50)\n"
   ]
  },
  {
   "cell_type": "code",
   "execution_count": 258,
   "id": "b12949cb",
   "metadata": {
    "scrolled": true
   },
   "outputs": [
    {
     "data": {
      "text/plain": [
       "home        0.016995\n",
       "video       0.011489\n",
       "niko        0.010526\n",
       "catching    0.008549\n",
       "internet    0.008329\n",
       "dtype: float64"
      ]
     },
     "execution_count": 258,
     "metadata": {},
     "output_type": "execute_result"
    }
   ],
   "source": [
    "vd_mean = vd_matrix.mean().sort_values(ascending=False) ## mean of videos_matrix\n",
    "vd_mean.head()"
   ]
  },
  {
   "cell_type": "code",
   "execution_count": 259,
   "id": "8e1e1b01",
   "metadata": {},
   "outputs": [
    {
     "data": {
      "text/plain": [
       "(array([982., 192.,  41.,  23.,   4.,   1.,   1.,   0.,   0.,   1.]),\n",
       " array([0.0015578, 0.0031015, 0.0046452, 0.0061889, 0.0077326, 0.0092763,\n",
       "        0.01082  , 0.0123637, 0.0139074, 0.0154511, 0.0169948]),\n",
       " <BarContainer object of 10 artists>)"
      ]
     },
     "execution_count": 259,
     "metadata": {},
     "output_type": "execute_result"
    },
    {
     "data": {
      "image/png": "[encoded data removed]",
      "text/plain": [
       "<Figure size 432x288 with 1 Axes>"
      ]
     },
     "metadata": {
      "needs_background": "light"
     },
     "output_type": "display_data"
    }
   ],
   "source": [
    "counts, bins = np.histogram(vd_mean)\n",
    "plt.hist(bins[:-1], bins, weights=counts)"
   ]
  },
  {
   "cell_type": "markdown",
   "id": "08dd1ae4",
   "metadata": {},
   "source": [
    "### TF-IDF Vectorizer"
   ]
  },
  {
   "cell_type": "code",
   "execution_count": 208,
   "id": "a12e583d",
   "metadata": {},
   "outputs": [
    {
     "data": {
      "text/plain": [
       "nlp                            3.069956\n",
       "text                           2.525735\n",
       "model                          2.512918\n",
       "language                       1.601680\n",
       "data                           1.506639\n",
       "bert                           1.378259\n",
       "looking                        1.254535\n",
       "processing                     1.223963\n",
       "nlp project                    1.202099\n",
       "project                        1.202099\n",
       "new                            1.191234\n",
       "using                          1.149503\n",
       "fine                           1.107088\n",
       "fine tuning                    1.107088\n",
       "tuning                         1.107088\n",
       "transformer                    1.043918\n",
       "ubiai                          1.000000\n",
       "customize                      1.000000\n",
       "question                       0.984188\n",
       "pre                            0.971465\n",
       "training                       0.970766\n",
       "help                           0.914796\n",
       "natural                        0.909154\n",
       "natural language               0.909154\n",
       "natural language processing    0.909154\n",
       "language processing            0.909154\n",
       "master                         0.878426\n",
       "document                       0.846395\n",
       "best                           0.844984\n",
       "entity                         0.767282\n",
       "classifier                     0.743935\n",
       "classification                 0.704349\n",
       "creating                       0.693015\n",
       "speech                         0.671213\n",
       "involved                       0.668749\n",
       "involved nlp                   0.668749\n",
       "dataset                        0.651449\n",
       "search                         0.646101\n",
       "word                           0.626470\n",
       "need                           0.614420\n",
       "group                          0.612844\n",
       "usa                            0.609271\n",
       "experience                     0.609271\n",
       "answering                      0.608766\n",
       "question answering             0.608766\n",
       "video                          0.602373\n",
       "gpt                            0.602120\n",
       "using bert                     0.598663\n",
       "trained                        0.594606\n",
       "distinction classifier         0.593211\n",
       "dtype: float64"
      ]
     },
     "execution_count": 208,
     "metadata": {},
     "output_type": "execute_result"
    }
   ],
   "source": [
    "from sklearn.feature_extraction.text import CountVectorizer, TfidfVectorizer, TfidfTransformer\n",
    "tvec = TfidfVectorizer(analyzer = \"word\", \n",
    "                     stop_words = stop_words, \n",
    "                     max_features = 10000, \n",
    "                     ngram_range = (1, 3))\n",
    "\n",
    "lt_tf_words = tvec.fit_transform(vector_input_lt)\n",
    "\n",
    "lt_tf_words = lt_tf_words.toarray()\n",
    "\n",
    "lt_matrix = pd.DataFrame(lt_tf_words, columns=tvec.get_feature_names())\n",
    "\n",
    "lt_matrix.sum().sort_values(ascending=False).head(50)\n",
    "\n",
    "## adapted from note on Language Data Pre-Processing and Sentiment Analysis"
   ]
  },
  {
   "cell_type": "code",
   "execution_count": 209,
   "id": "6f29ddd7",
   "metadata": {},
   "outputs": [
    {
     "data": {
      "text/plain": [
       "home                    1.614506\n",
       "video                   1.091477\n",
       "niko                    1.000000\n",
       "catching                0.812192\n",
       "internet                0.791234\n",
       "facebook                0.763781\n",
       "new                     0.754858\n",
       "movie                   0.733742\n",
       "dog                     0.718643\n",
       "hacker                  0.707107\n",
       "reddit                  0.704859\n",
       "best                    0.701212\n",
       "spiderman               0.696792\n",
       "time                    0.696565\n",
       "make                    0.690498\n",
       "sora                    0.687677\n",
       "official                0.676624\n",
       "trailer                 0.673146\n",
       "game                    0.638074\n",
       "squid game              0.638074\n",
       "squid                   0.638074\n",
       "like                    0.632840\n",
       "way                     0.628601\n",
       "archive                 0.621381\n",
       "man                     0.618610\n",
       "mod                     0.614561\n",
       "try catching            0.593343\n",
       "facebook disappeared    0.593343\n",
       "disappeared             0.593343\n",
       "try                     0.593343\n",
       "heaven                  0.577350\n",
       "diablo                  0.577350\n",
       "edit                    0.577350\n",
       "battlefield             0.577350\n",
       "student pylit           0.577350\n",
       "student                 0.577350\n",
       "diablo edit             0.577350\n",
       "pylit                   0.577350\n",
       "hell                    0.577350\n",
       "heaven hell             0.577350\n",
       "2042                    0.577350\n",
       "battlefield 2042        0.577350\n",
       "world                   0.576570\n",
       "second                  0.576570\n",
       "tour                    0.563885\n",
       "anti                    0.550147\n",
       "rewind                  0.540720\n",
       "minecraft               0.536526\n",
       "unboxing                0.532847\n",
       "baby                    0.530053\n",
       "dtype: float64"
      ]
     },
     "execution_count": 209,
     "metadata": {},
     "output_type": "execute_result"
    }
   ],
   "source": [
    "tvec = TfidfVectorizer(analyzer = \"word\", \n",
    "                     stop_words = stop_words, \n",
    "                     max_features = 10000, \n",
    "                     ngram_range = (1, 3))\n",
    "\n",
    "vd_tf_words = tvec.fit_transform(vector_input_vd)\n",
    "\n",
    "vd_tf_words = vd_tf_words.toarray()\n",
    "\n",
    "vd_matrix = pd.DataFrame(vd_tf_words, columns=tvec.get_feature_names())\n",
    "\n",
    "vd_matrix.sum().sort_values(ascending=False).head(50)\n"
   ]
  },
  {
   "cell_type": "markdown",
   "id": "27164d36",
   "metadata": {},
   "source": [
    "## set up X and y, train/test split"
   ]
  },
  {
   "cell_type": "code",
   "execution_count": 219,
   "id": "83c38c70",
   "metadata": {},
   "outputs": [],
   "source": [
    "X = df['title']\n",
    "y = df['subreddit']"
   ]
  },
  {
   "cell_type": "code",
   "execution_count": 220,
   "id": "b2b7728e",
   "metadata": {},
   "outputs": [
    {
     "data": {
      "text/plain": [
       "1    0.510309\n",
       "0    0.489691\n",
       "Name: subreddit, dtype: float64"
      ]
     },
     "execution_count": 220,
     "metadata": {},
     "output_type": "execute_result"
    }
   ],
   "source": [
    "y.value_counts(normalize=True) ## almost 50% make it right"
   ]
  },
  {
   "cell_type": "code",
   "execution_count": 221,
   "id": "fcaf87f6",
   "metadata": {},
   "outputs": [],
   "source": [
    "# define training and testing sets.\n",
    "X_train, X_test, y_train, y_test = train_test_split(X,\n",
    "                                                    y,\n",
    "                                                    test_size=0.33,\n",
    "                                                    stratify=y,\n",
    "                                                    random_state=42)"
   ]
  },
  {
   "cell_type": "markdown",
   "id": "d82453f1",
   "metadata": {},
   "source": [
    "### edit stop words"
   ]
  },
  {
   "cell_type": "code",
   "execution_count": 222,
   "id": "15ecc39b",
   "metadata": {},
   "outputs": [],
   "source": [
    "from sklearn.feature_extraction import text\n",
    "\n",
    "text.ENGLISH_STOP_WORDS\n",
    "\n",
    "add_stop_words = ['did', 'doe', 'don', 'doesn', 'getting', 'going', 'got', 'ha', 'isn', 'wa']\n",
    "\n",
    "stop_words = text.ENGLISH_STOP_WORDS.union(add_stop_words)\n"
   ]
  },
  {
   "cell_type": "code",
   "execution_count": 223,
   "id": "a8809525",
   "metadata": {
    "scrolled": true
   },
   "outputs": [
    {
     "data": {
      "text/plain": [
       "frozenset({'a',\n",
       "           'about',\n",
       "           'above',\n",
       "           'across',\n",
       "           'after',\n",
       "           'afterwards',\n",
       "           'again',\n",
       "           'against',\n",
       "           'all',\n",
       "           'almost',\n",
       "           'alone',\n",
       "           'along',\n",
       "           'already',\n",
       "           'also',\n",
       "           'although',\n",
       "           'always',\n",
       "           'am',\n",
       "           'among',\n",
       "           'amongst',\n",
       "           'amoungst',\n",
       "           'amount',\n",
       "           'an',\n",
       "           'and',\n",
       "           'another',\n",
       "           'any',\n",
       "           'anyhow',\n",
       "           'anyone',\n",
       "           'anything',\n",
       "           'anyway',\n",
       "           'anywhere',\n",
       "           'are',\n",
       "           'around',\n",
       "           'as',\n",
       "           'at',\n",
       "           'back',\n",
       "           'be',\n",
       "           'became',\n",
       "           'because',\n",
       "           'become',\n",
       "           'becomes',\n",
       "           'becoming',\n",
       "           'been',\n",
       "           'before',\n",
       "           'beforehand',\n",
       "           'behind',\n",
       "           'being',\n",
       "           'below',\n",
       "           'beside',\n",
       "           'besides',\n",
       "           'between',\n",
       "           'beyond',\n",
       "           'bill',\n",
       "           'both',\n",
       "           'bottom',\n",
       "           'but',\n",
       "           'by',\n",
       "           'call',\n",
       "           'can',\n",
       "           'cannot',\n",
       "           'cant',\n",
       "           'co',\n",
       "           'con',\n",
       "           'could',\n",
       "           'couldnt',\n",
       "           'cry',\n",
       "           'de',\n",
       "           'describe',\n",
       "           'detail',\n",
       "           'did',\n",
       "           'do',\n",
       "           'doe',\n",
       "           'doesn',\n",
       "           'don',\n",
       "           'done',\n",
       "           'down',\n",
       "           'due',\n",
       "           'during',\n",
       "           'each',\n",
       "           'eg',\n",
       "           'eight',\n",
       "           'either',\n",
       "           'eleven',\n",
       "           'else',\n",
       "           'elsewhere',\n",
       "           'empty',\n",
       "           'enough',\n",
       "           'etc',\n",
       "           'even',\n",
       "           'ever',\n",
       "           'every',\n",
       "           'everyone',\n",
       "           'everything',\n",
       "           'everywhere',\n",
       "           'except',\n",
       "           'few',\n",
       "           'fifteen',\n",
       "           'fifty',\n",
       "           'fill',\n",
       "           'find',\n",
       "           'fire',\n",
       "           'first',\n",
       "           'five',\n",
       "           'for',\n",
       "           'former',\n",
       "           'formerly',\n",
       "           'forty',\n",
       "           'found',\n",
       "           'four',\n",
       "           'from',\n",
       "           'front',\n",
       "           'full',\n",
       "           'further',\n",
       "           'get',\n",
       "           'getting',\n",
       "           'give',\n",
       "           'go',\n",
       "           'going',\n",
       "           'got',\n",
       "           'ha',\n",
       "           'had',\n",
       "           'has',\n",
       "           'hasnt',\n",
       "           'have',\n",
       "           'he',\n",
       "           'hence',\n",
       "           'her',\n",
       "           'here',\n",
       "           'hereafter',\n",
       "           'hereby',\n",
       "           'herein',\n",
       "           'hereupon',\n",
       "           'hers',\n",
       "           'herself',\n",
       "           'him',\n",
       "           'himself',\n",
       "           'his',\n",
       "           'how',\n",
       "           'however',\n",
       "           'hundred',\n",
       "           'i',\n",
       "           'ie',\n",
       "           'if',\n",
       "           'in',\n",
       "           'inc',\n",
       "           'indeed',\n",
       "           'interest',\n",
       "           'into',\n",
       "           'is',\n",
       "           'isn',\n",
       "           'it',\n",
       "           'its',\n",
       "           'itself',\n",
       "           'keep',\n",
       "           'last',\n",
       "           'latter',\n",
       "           'latterly',\n",
       "           'least',\n",
       "           'less',\n",
       "           'ltd',\n",
       "           'made',\n",
       "           'many',\n",
       "           'may',\n",
       "           'me',\n",
       "           'meanwhile',\n",
       "           'might',\n",
       "           'mill',\n",
       "           'mine',\n",
       "           'more',\n",
       "           'moreover',\n",
       "           'most',\n",
       "           'mostly',\n",
       "           'move',\n",
       "           'much',\n",
       "           'must',\n",
       "           'my',\n",
       "           'myself',\n",
       "           'name',\n",
       "           'namely',\n",
       "           'neither',\n",
       "           'never',\n",
       "           'nevertheless',\n",
       "           'next',\n",
       "           'nine',\n",
       "           'no',\n",
       "           'nobody',\n",
       "           'none',\n",
       "           'noone',\n",
       "           'nor',\n",
       "           'not',\n",
       "           'nothing',\n",
       "           'now',\n",
       "           'nowhere',\n",
       "           'of',\n",
       "           'off',\n",
       "           'often',\n",
       "           'on',\n",
       "           'once',\n",
       "           'one',\n",
       "           'only',\n",
       "           'onto',\n",
       "           'or',\n",
       "           'other',\n",
       "           'others',\n",
       "           'otherwise',\n",
       "           'our',\n",
       "           'ours',\n",
       "           'ourselves',\n",
       "           'out',\n",
       "           'over',\n",
       "           'own',\n",
       "           'part',\n",
       "           'per',\n",
       "           'perhaps',\n",
       "           'please',\n",
       "           'put',\n",
       "           'rather',\n",
       "           're',\n",
       "           'same',\n",
       "           'see',\n",
       "           'seem',\n",
       "           'seemed',\n",
       "           'seeming',\n",
       "           'seems',\n",
       "           'serious',\n",
       "           'several',\n",
       "           'she',\n",
       "           'should',\n",
       "           'show',\n",
       "           'side',\n",
       "           'since',\n",
       "           'sincere',\n",
       "           'six',\n",
       "           'sixty',\n",
       "           'so',\n",
       "           'some',\n",
       "           'somehow',\n",
       "           'someone',\n",
       "           'something',\n",
       "           'sometime',\n",
       "           'sometimes',\n",
       "           'somewhere',\n",
       "           'still',\n",
       "           'such',\n",
       "           'system',\n",
       "           'take',\n",
       "           'ten',\n",
       "           'than',\n",
       "           'that',\n",
       "           'the',\n",
       "           'their',\n",
       "           'them',\n",
       "           'themselves',\n",
       "           'then',\n",
       "           'thence',\n",
       "           'there',\n",
       "           'thereafter',\n",
       "           'thereby',\n",
       "           'therefore',\n",
       "           'therein',\n",
       "           'thereupon',\n",
       "           'these',\n",
       "           'they',\n",
       "           'thick',\n",
       "           'thin',\n",
       "           'third',\n",
       "           'this',\n",
       "           'those',\n",
       "           'though',\n",
       "           'three',\n",
       "           'through',\n",
       "           'throughout',\n",
       "           'thru',\n",
       "           'thus',\n",
       "           'to',\n",
       "           'together',\n",
       "           'too',\n",
       "           'top',\n",
       "           'toward',\n",
       "           'towards',\n",
       "           'twelve',\n",
       "           'twenty',\n",
       "           'two',\n",
       "           'un',\n",
       "           'under',\n",
       "           'until',\n",
       "           'up',\n",
       "           'upon',\n",
       "           'us',\n",
       "           'very',\n",
       "           'via',\n",
       "           'wa',\n",
       "           'was',\n",
       "           'we',\n",
       "           'well',\n",
       "           'were',\n",
       "           'what',\n",
       "           'whatever',\n",
       "           'when',\n",
       "           'whence',\n",
       "           'whenever',\n",
       "           'where',\n",
       "           'whereafter',\n",
       "           'whereas',\n",
       "           'whereby',\n",
       "           'wherein',\n",
       "           'whereupon',\n",
       "           'wherever',\n",
       "           'whether',\n",
       "           'which',\n",
       "           'while',\n",
       "           'whither',\n",
       "           'who',\n",
       "           'whoever',\n",
       "           'whole',\n",
       "           'whom',\n",
       "           'whose',\n",
       "           'why',\n",
       "           'will',\n",
       "           'with',\n",
       "           'within',\n",
       "           'without',\n",
       "           'would',\n",
       "           'yet',\n",
       "           'you',\n",
       "           'your',\n",
       "           'yours',\n",
       "           'yourself',\n",
       "           'yourselves'})"
      ]
     },
     "execution_count": 223,
     "metadata": {},
     "output_type": "execute_result"
    }
   ],
   "source": [
    "stop_words"
   ]
  },
  {
   "cell_type": "markdown",
   "id": "bf4f59a9",
   "metadata": {},
   "source": [
    "# Modeling"
   ]
  },
  {
   "cell_type": "markdown",
   "id": "9e4bd2b9",
   "metadata": {},
   "source": [
    "I created and designed three different model in hope to have the best score to make predictions."
   ]
  },
  {
   "cell_type": "markdown",
   "id": "10fdc2fe",
   "metadata": {},
   "source": [
    "## Logistic Regression with CountVectorizer¶"
   ]
  },
  {
   "cell_type": "code",
   "execution_count": 260,
   "id": "18b78901",
   "metadata": {},
   "outputs": [],
   "source": [
    "#Logistic regression with count vectorizer\n",
    "pipe = Pipeline([\n",
    "    ('cvec', CountVectorizer()),   #count vectorizor\n",
    "    ('lr', LogisticRegression())     #model \n",
    "])"
   ]
  },
  {
   "cell_type": "code",
   "execution_count": 261,
   "id": "2ea5f4bf",
   "metadata": {},
   "outputs": [
    {
     "name": "stdout",
     "output_type": "stream",
     "text": [
      "gs.best.score_: 0.8062015503875969\n",
      "gs.best.params_: {'cvec__max_df': 0.75, 'cvec__max_features': 100, 'cvec__min_df': 2, 'cvec__stop_words': None, 'lr__random_state': 42}\n"
     ]
    },
    {
     "data": {
      "text/plain": [
       "Pipeline(steps=[('cvec',\n",
       "                 CountVectorizer(max_df=0.75, max_features=100, min_df=2)),\n",
       "                ('lr', LogisticRegression(random_state=42))])"
      ]
     },
     "execution_count": 261,
     "metadata": {},
     "output_type": "execute_result"
    }
   ],
   "source": [
    "params = {\n",
    "    'cvec__stop_words': [None, 'english'],\n",
    "    'cvec__max_features': [50, 100, 500, 1000, 1500],      #iterate over these options to see what is best\n",
    "    'cvec__min_df': [2,3,5],\n",
    "    'cvec__max_df': [.75, .8, .9, .95],\n",
    "    'lr__random_state': [42]\n",
    "    ##### note you could add 'cvec_tokenizer' : [None, custom_tokenizer]\n",
    "}\n",
    "gs = GridSearchCV(pipe, param_grid=params, cv=3)\n",
    "gs.fit(X_train, y_train) # Also does cv in the background\n",
    "print(f'gs.best.score_: {gs.best_score_}') # cross_val_score\n",
    "print(f'gs.best.params_: {gs.best_params_}')\n",
    "gs.best_estimator_"
   ]
  },
  {
   "cell_type": "code",
   "execution_count": 262,
   "id": "63c53e68",
   "metadata": {},
   "outputs": [
    {
     "name": "stdout",
     "output_type": "stream",
     "text": [
      "Train Score GS1A: 0.8992248062015504\n",
      "Test Score GS1A: 0.7692307692307693\n"
     ]
    }
   ],
   "source": [
    "print(f'Train Score GS1A: {gs.score(X_train,y_train)}')\n",
    "print(f'Test Score GS1A: {gs.score(X_test,y_test)}')"
   ]
  },
  {
   "cell_type": "code",
   "execution_count": 263,
   "id": "b3cbb75a",
   "metadata": {
    "scrolled": true
   },
   "outputs": [
    {
     "name": "stdout",
     "output_type": "stream",
     "text": [
      "gs.best.score_: 0.7984496124031008\n",
      "gs.best.params_: {'cvec__max_df': 0.75, 'cvec__max_features': 25, 'cvec__min_df': 2, 'cvec__stop_words': None, 'lr__random_state': 42}\n"
     ]
    },
    {
     "data": {
      "text/plain": [
       "Pipeline(steps=[('cvec',\n",
       "                 CountVectorizer(max_df=0.75, max_features=25, min_df=2)),\n",
       "                ('lr', LogisticRegression(random_state=42))])"
      ]
     },
     "execution_count": 263,
     "metadata": {},
     "output_type": "execute_result"
    }
   ],
   "source": [
    "params = {\n",
    "    'cvec__stop_words': [None, 'english'],\n",
    "    'cvec__max_features': [10, 25, 50],      #iterate over these options to see what is best\n",
    "    'cvec__min_df': [2,3,5],\n",
    "    'cvec__max_df': [.75, .8, .9, .95],\n",
    "    'lr__random_state': [42]\n",
    "}\n",
    "\n",
    "gs = GridSearchCV(pipe, param_grid=params, cv=3)\n",
    "gs.fit(X_train, y_train) # Also does cv in the background\n",
    "\n",
    "print(f'gs.best.score_: {gs.best_score_}') # cross_val_score\n",
    "print(f'gs.best.params_: {gs.best_params_}')\n",
    "gs.best_estimator_\n"
   ]
  },
  {
   "cell_type": "code",
   "execution_count": 264,
   "id": "8c2cfc24",
   "metadata": {},
   "outputs": [
    {
     "name": "stdout",
     "output_type": "stream",
     "text": [
      "Train Score GS1B: 0.8682170542635659\n",
      "Test Score GS1B: 0.7692307692307693\n"
     ]
    }
   ],
   "source": [
    "print(f'Train Score GS1B: {gs.score(X_train,y_train)}')\n",
    "print(f'Test Score GS1B: {gs.score(X_test,y_test)}')"
   ]
  },
  {
   "cell_type": "markdown",
   "id": "d00176aa",
   "metadata": {},
   "source": [
    "Despite changing max_features, the Logistic Regression with CountVectorizer remained the same at 77%"
   ]
  },
  {
   "cell_type": "markdown",
   "id": "48841b5b",
   "metadata": {},
   "source": [
    "## KNN with Tfidf"
   ]
  },
  {
   "cell_type": "code",
   "execution_count": 266,
   "id": "8ab7bb53",
   "metadata": {},
   "outputs": [],
   "source": [
    "from sklearn.neighbors import KNeighborsClassifier\n",
    "#KNN with Tfidf\n",
    "pipe3 = Pipeline([\n",
    "    ('tfidf', TfidfVectorizer()),   #Tfidf vectorizor  \n",
    "    ('knn', KNeighborsClassifier(n_neighbors=20))        #model \n",
    "])"
   ]
  },
  {
   "cell_type": "code",
   "execution_count": 267,
   "id": "4a782583",
   "metadata": {},
   "outputs": [
    {
     "data": {
      "text/plain": [
       "GridSearchCV(cv=3,\n",
       "             estimator=Pipeline(steps=[('tfidf', TfidfVectorizer()),\n",
       "                                       ('knn',\n",
       "                                        KNeighborsClassifier(n_neighbors=20))]),\n",
       "             param_grid={'tfidf__max_df': [0.75, 0.8, 0.9, 0.95],\n",
       "                         'tfidf__max_features': [10, 25, 50],\n",
       "                         'tfidf__min_df': [2, 3, 5],\n",
       "                         'tfidf__stop_words': [None, 'english']})"
      ]
     },
     "execution_count": 267,
     "metadata": {},
     "output_type": "execute_result"
    }
   ],
   "source": [
    "\n",
    "params3 = {\n",
    "        'tfidf__stop_words': [None, 'english'],\n",
    "        'tfidf__max_features': [10, 25, 50],      #iterate over these options to see what is best\n",
    "        'tfidf__min_df': [2, 3, 5],\n",
    "        'tfidf__max_df': [.75, .8, .9, .95]\n",
    "}\n",
    "gs3 = GridSearchCV(pipe3, param_grid=params3, cv=3)\n",
    "gs3.fit(X_train, y_train) # Also does cv in the background"
   ]
  },
  {
   "cell_type": "code",
   "execution_count": 268,
   "id": "f6ff15fd",
   "metadata": {},
   "outputs": [
    {
     "name": "stdout",
     "output_type": "stream",
     "text": [
      "gs3.best.score_: 0.7441860465116279\n",
      "gs3.best.params_: {'tfidf__max_df': 0.75, 'tfidf__max_features': 10, 'tfidf__min_df': 5, 'tfidf__stop_words': 'english'}\n"
     ]
    },
    {
     "data": {
      "text/plain": [
       "Pipeline(steps=[('tfidf',\n",
       "                 TfidfVectorizer(max_df=0.75, max_features=10, min_df=5,\n",
       "                                 stop_words='english')),\n",
       "                ('knn', KNeighborsClassifier(n_neighbors=20))])"
      ]
     },
     "execution_count": 268,
     "metadata": {},
     "output_type": "execute_result"
    }
   ],
   "source": [
    "print(f'gs3.best.score_: {gs3.best_score_}') # cross_val_score\n",
    "print(f'gs3.best.params_: {gs3.best_params_}')\n",
    "gs3.best_estimator_"
   ]
  },
  {
   "cell_type": "code",
   "execution_count": 269,
   "id": "750dbe4a",
   "metadata": {},
   "outputs": [
    {
     "name": "stdout",
     "output_type": "stream",
     "text": [
      "Train Score GS3A: 0.7209302325581395\n",
      "Test Score GS3A: 0.6923076923076923\n"
     ]
    }
   ],
   "source": [
    "print(f'Train Score GS3A: {gs3.score(X_train,y_train)}')\n",
    "print(f'Test Score GS3A: {gs3.score(X_test,y_test)}')"
   ]
  },
  {
   "cell_type": "code",
   "execution_count": 276,
   "id": "51d5b71f",
   "metadata": {},
   "outputs": [],
   "source": [
    "from sklearn.metrics import confusion_matrix, plot_confusion_matrix\n",
    "# Get predictions\n",
    "preds = gs.predict(X_test)\n",
    "\n",
    "# Save confusion matrix values\n",
    "tn, fp, fn, tp = confusion_matrix(y_test, preds).ravel()"
   ]
  },
  {
   "cell_type": "code",
   "execution_count": 277,
   "id": "fa3ff50f",
   "metadata": {},
   "outputs": [
    {
     "data": {
      "image/png": "[encoded data removed]",
      "text/plain": [
       "<Figure size 432x288 with 2 Axes>"
      ]
     },
     "metadata": {
      "needs_background": "light"
     },
     "output_type": "display_data"
    }
   ],
   "source": [
    "# View confusion matrix\n",
    "\n",
    "plot_confusion_matrix(gs, X_test, y_test, cmap='Blues', values_format='d');\n"
   ]
  },
  {
   "cell_type": "markdown",
   "id": "e51a62ac",
   "metadata": {},
   "source": [
    "## Random Forestm with Tfidf"
   ]
  },
  {
   "cell_type": "code",
   "execution_count": 270,
   "id": "6525816b",
   "metadata": {},
   "outputs": [],
   "source": [
    "#KNN with Tfidf\n",
    "pipe4 = Pipeline([\n",
    "    ('tfidf', TfidfVectorizer()),   #Tfidf vectorizor  \n",
    "    ('rf', RandomForestClassifier(random_state=42))        #model \n",
    "])"
   ]
  },
  {
   "cell_type": "code",
   "execution_count": 271,
   "id": "4a09da4c",
   "metadata": {},
   "outputs": [
    {
     "name": "stdout",
     "output_type": "stream",
     "text": [
      "gs4.best.score_: 0.8532307692307693\n",
      "gs4.best.params_: {'rf__max_depth': None, 'rf__max_features': 'auto', 'rf__n_estimators': 50, 'tfidf__max_df': 0.75, 'tfidf__max_features': 50, 'tfidf__min_df': 2, 'tfidf__stop_words': 'english'}\n"
     ]
    },
    {
     "data": {
      "text/plain": [
       "Pipeline(steps=[('tfidf',\n",
       "                 TfidfVectorizer(max_df=0.75, max_features=50, min_df=2,\n",
       "                                 stop_words='english')),\n",
       "                ('rf',\n",
       "                 RandomForestClassifier(n_estimators=50, random_state=42))])"
      ]
     },
     "execution_count": 271,
     "metadata": {},
     "output_type": "execute_result"
    }
   ],
   "source": [
    "params4 = {\n",
    "    'tfidf__stop_words': [None, 'english'],\n",
    "    'tfidf__max_features': [10, 25, 50],      #iterate over these options to see what is best\n",
    "    'tfidf__min_df': [2, 3, 5],\n",
    "    'tfidf__max_df': [.75, .8, .9, .95],\n",
    "    'rf__n_estimators': [10, 50, 100],  #to get rid of warnings\n",
    "    'rf__max_depth': [None, 3, 5],\n",
    "    'rf__max_features': ['auto']  #auto is default\n",
    "   }   \n",
    "gs4 = GridSearchCV(pipe4, param_grid=params4, cv=5)\n",
    "gs4.fit(X_train, y_train) # Also does cv in the background\n",
    "print(f'gs4.best.score_: {gs4.best_score_}') # cross_val_score\n",
    "print(f'gs4.best.params_: {gs4.best_params_}')\n",
    "gs4.best_estimator_"
   ]
  },
  {
   "cell_type": "code",
   "execution_count": 272,
   "id": "fe7da9b0",
   "metadata": {},
   "outputs": [
    {
     "name": "stdout",
     "output_type": "stream",
     "text": [
      "Train Score GS4A: 0.9224806201550387\n",
      "Test Score GS4A: 0.7384615384615385\n"
     ]
    }
   ],
   "source": [
    "print(f'Train Score GS4A: {gs4.score(X_train,y_train)}')\n",
    "print(f'Test Score GS4A: {gs4.score(X_test,y_test)}')"
   ]
  },
  {
   "cell_type": "code",
   "execution_count": 274,
   "id": "d216554a",
   "metadata": {},
   "outputs": [],
   "source": [
    "from sklearn.metrics import confusion_matrix, plot_confusion_matrix\n",
    "# Get predictions\n",
    "preds = gs.predict(X_test)\n",
    "\n",
    "# Save confusion matrix values\n",
    "tn, fp, fn, tp = confusion_matrix(y_test, preds).ravel()"
   ]
  },
  {
   "cell_type": "code",
   "execution_count": 275,
   "id": "740eccb4",
   "metadata": {},
   "outputs": [
    {
     "data": {
      "image/png": "[encoded data removed]",
      "text/plain": [
       "<Figure size 432x288 with 2 Axes>"
      ]
     },
     "metadata": {
      "needs_background": "light"
     },
     "output_type": "display_data"
    }
   ],
   "source": [
    "# View confusion matrix\n",
    "\n",
    "plot_confusion_matrix(gs, X_test, y_test, cmap='Blues', values_format='d');"
   ]
  },
  {
   "cell_type": "markdown",
   "id": "b64ef8b5",
   "metadata": {},
   "source": [
    "# Conclusion"
   ]
  },
  {
   "cell_type": "markdown",
   "id": "b9b10839",
   "metadata": {},
   "source": [
    "**The performance of the models is summarized below**:\n",
    "\n",
    "\n",
    "* Baseline Model Accuracy - 50%\n",
    "\n",
    "* Accuracy achieved by KNN with Tfidf - 69%\n",
    "\n",
    "\n",
    "* Accuracy with Logistic Regression with CountVectorizer - 77%\n",
    "\n",
    "\n",
    "\n",
    "* Accuracy achieved by Random Forest Classifier - 74%\n",
    "\n",
    "\n",
    "* The algorithms  beat the baseline accuracy, but Logistic Regression with CountVectorizer  scored higher than KNN with Tfidf and Random forest Classifier on an accuracy score  approximately 77%.\n",
    "\n",
    "\n",
    "* Therefore, our model successfully classify r/LanguageTechnology, and non r/LanguageTechnology, with a 77% of the time."
   ]
  },
  {
   "cell_type": "markdown",
   "id": "af0ed7eb",
   "metadata": {},
   "source": [
    "# Recommendation"
   ]
  },
  {
   "cell_type": "markdown",
   "id": "bf5e911e",
   "metadata": {},
   "source": [
    "Extract more submissions.Use different models to score the algorithms."
   ]
  },
  {
   "cell_type": "markdown",
   "id": "7306b9ff",
   "metadata": {},
   "source": [
    "# References"
   ]
  },
  {
   "cell_type": "markdown",
   "id": "4cbdc0d3",
   "metadata": {},
   "source": [
    "https://hbr.org/2021/01/social-media-companies-should-self-regulate-now"
   ]
  }
 ],
 "metadata": {
  "kernelspec": {
   "display_name": "Python 3",
   "language": "python",
   "name": "python3"
  },
  "language_info": {
   "codemirror_mode": {
    "name": "ipython",
    "version": 3
   },
   "file_extension": ".py",
   "mimetype": "text/x-python",
   "name": "python",
   "nbconvert_exporter": "python",
   "pygments_lexer": "ipython3",
   "version": "3.8.11"
  }
 },
 "nbformat": 4,
 "nbformat_minor": 5
}
